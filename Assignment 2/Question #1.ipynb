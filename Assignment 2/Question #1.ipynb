{
 "cells": [
  {
   "cell_type": "code",
   "execution_count": 6,
   "id": "7ab0049d",
   "metadata": {},
   "outputs": [
    {
     "name": "stdout",
     "output_type": "stream",
     "text": [
      "What is your Fasting blood sugar? : 4\n"
     ]
    }
   ],
   "source": [
    "#receive the fasting blood sugar from user\n",
    "fbs = int(input('What is your Fasting blood sugar? : '))\n",
    "\n",
    "#checks if fasting blood sugar is in normal range\n",
    "if fbs > 99:\n",
    "    print(\"you dont not have a normal fasting blood sugar\")"
   ]
  },
  {
   "cell_type": "code",
   "execution_count": null,
   "id": "c4a67df2",
   "metadata": {},
   "outputs": [],
   "source": []
  }
 ],
 "metadata": {
  "kernelspec": {
   "display_name": "Python 3 (ipykernel)",
   "language": "python",
   "name": "python3"
  },
  "language_info": {
   "codemirror_mode": {
    "name": "ipython",
    "version": 3
   },
   "file_extension": ".py",
   "mimetype": "text/x-python",
   "name": "python",
   "nbconvert_exporter": "python",
   "pygments_lexer": "ipython3",
   "version": "3.11.4"
  }
 },
 "nbformat": 4,
 "nbformat_minor": 5
}
