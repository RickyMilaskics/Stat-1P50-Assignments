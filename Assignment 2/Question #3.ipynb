{
 "cells": [
  {
   "cell_type": "code",
   "execution_count": 1,
   "id": "478a8718",
   "metadata": {
    "scrolled": true
   },
   "outputs": [
    {
     "name": "stdout",
     "output_type": "stream",
     "text": [
      "2850\n"
     ]
    }
   ],
   "source": [
    "#function the tells me the amount of line in a file\n",
    "def lineCount(file):\n",
    "    fileList = file.readlines();\n",
    "    lineAmount = len(fileList)\n",
    "    return lineAmount\n",
    "\n",
    "#variable to hold how many q we have \n",
    "numberOfq = 0\n",
    "\n",
    "#open file to count the lines\n",
    "file = open(file='Data/sample-file.txt', mode='r')\n",
    "lineAmount = lineCount(file)\n",
    "file.close()\n",
    "\n",
    "#reopen the file so it starts at line 1\n",
    "file = open(file='Data/sample-file.txt', mode='r')\n",
    "\n",
    "#for loop that counts how many lines have q in it\n",
    "for i in range(0,lineAmount):\n",
    "    fileLine = file.readline()\n",
    "    if \"q\" in fileLine:\n",
    "        numberOfq += 1\n",
    "file.close()\n",
    "print(numberOfq)"
   ]
  },
  {
   "cell_type": "code",
   "execution_count": null,
   "id": "33c7b686",
   "metadata": {},
   "outputs": [],
   "source": []
  }
 ],
 "metadata": {
  "kernelspec": {
   "display_name": "Python 3 (ipykernel)",
   "language": "python",
   "name": "python3"
  },
  "language_info": {
   "codemirror_mode": {
    "name": "ipython",
    "version": 3
   },
   "file_extension": ".py",
   "mimetype": "text/x-python",
   "name": "python",
   "nbconvert_exporter": "python",
   "pygments_lexer": "ipython3",
   "version": "3.11.4"
  }
 },
 "nbformat": 4,
 "nbformat_minor": 5
}
