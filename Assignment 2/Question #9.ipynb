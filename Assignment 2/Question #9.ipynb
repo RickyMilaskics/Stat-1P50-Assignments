{
 "cells": [
  {
   "cell_type": "code",
   "execution_count": 3,
   "id": "a9ec0803",
   "metadata": {},
   "outputs": [
    {
     "name": "stdout",
     "output_type": "stream",
     "text": [
      "the correlation between poverty and violent crime is [1.         0.61575287]\n",
      "the correlation between employment and violent crime is [1.         0.54803909]\n",
      "the correlation between police and violent crime is [1.         0.14931867]\n",
      "the correlation between homeless and violent crime is [1.         0.42661445]\n",
      "the correlation between degree and violent crime is [ 1.         -0.29623863]\n"
     ]
    }
   ],
   "source": [
    "import pandas as pd\n",
    "import numpy as np\n",
    "import matplotlib.pyplot as plt\n",
    "\n",
    "data = pd.read_csv('Data/crime.csv')\n",
    "\n",
    "povData = data['PctPopUnderPov'].tolist()\n",
    "employmentData = data['PctUnemployed'].tolist()\n",
    "policeData = data['PolicPerPop'].tolist()\n",
    "homelessData = data['Pcthomeless'].tolist()\n",
    "degreeData = data['PctBSorMore'].tolist()\n",
    "violentData = data['ViolentCrimesPerPop'].tolist()\n",
    "\n",
    "correlation = np.corrcoef(povData, violentData)\n",
    "print(\"the correlation between poverty and violent crime is\", correlation[0])\n",
    "correlation = np.corrcoef(employmentData, violentData)\n",
    "print(\"the correlation between employment and violent crime is\", correlation[0])\n",
    "correlation = np.corrcoef(policeData, violentData)\n",
    "print(\"the correlation between police and violent crime is\", correlation[0])\n",
    "correlation = np.corrcoef(homelessData, violentData)\n",
    "print(\"the correlation between homeless and violent crime is\", correlation[0])\n",
    "correlation = np.corrcoef(degreeData, violentData)\n",
    "print(\"the correlation between degree and violent crime is\", correlation[0])"
   ]
  },
  {
   "cell_type": "code",
   "execution_count": null,
   "id": "a6ae3e4b",
   "metadata": {},
   "outputs": [],
   "source": []
  }
 ],
 "metadata": {
  "kernelspec": {
   "display_name": "Python 3 (ipykernel)",
   "language": "python",
   "name": "python3"
  },
  "language_info": {
   "codemirror_mode": {
    "name": "ipython",
    "version": 3
   },
   "file_extension": ".py",
   "mimetype": "text/x-python",
   "name": "python",
   "nbconvert_exporter": "python",
   "pygments_lexer": "ipython3",
   "version": "3.11.4"
  }
 },
 "nbformat": 4,
 "nbformat_minor": 5
}
