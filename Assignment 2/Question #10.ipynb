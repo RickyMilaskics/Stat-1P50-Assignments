{
 "cells": [
  {
   "cell_type": "code",
   "execution_count": 8,
   "id": "b5b19743",
   "metadata": {},
   "outputs": [
    {
     "name": "stdout",
     "output_type": "stream",
     "text": [
      "-5.081513905171448 7.701513905171449 2.1305046350571497 1.31\n",
      "the test valuie is not an outlier\n"
     ]
    }
   ],
   "source": [
    "import numpy as np\n",
    "def outsideDeviationChecker(data,test):\n",
    "    averageOfData = np.mean(data)\n",
    "    standardDeviation = np.std(data)\n",
    "    lowest = averageOfData - 3*standardDeviation\n",
    "    highest = averageOfData + 3*standardDeviation\n",
    "    print(lowest,highest,standardDeviation, averageOfData)\n",
    "    if test < highest and test > lowest:\n",
    "        print(\"the test valuie is not an outlier\")\n",
    "    else:\n",
    "        print(\"the test valuie is an outlier\")\n",
    "    \n",
    "list = [0.1,0.09,0.05,5]\n",
    "test = 0.55\n",
    "outsideDeviationChecker(list,test)"
   ]
  },
  {
   "cell_type": "code",
   "execution_count": null,
   "id": "346b5bf4",
   "metadata": {},
   "outputs": [],
   "source": []
  }
 ],
 "metadata": {
  "kernelspec": {
   "display_name": "Python 3 (ipykernel)",
   "language": "python",
   "name": "python3"
  },
  "language_info": {
   "codemirror_mode": {
    "name": "ipython",
    "version": 3
   },
   "file_extension": ".py",
   "mimetype": "text/x-python",
   "name": "python",
   "nbconvert_exporter": "python",
   "pygments_lexer": "ipython3",
   "version": "3.11.4"
  }
 },
 "nbformat": 4,
 "nbformat_minor": 5
}
