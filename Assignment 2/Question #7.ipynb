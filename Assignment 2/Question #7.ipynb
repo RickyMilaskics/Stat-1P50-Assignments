{
 "cells": [
  {
   "cell_type": "code",
   "execution_count": 4,
   "id": "30af8f95",
   "metadata": {},
   "outputs": [
    {
     "name": "stdout",
     "output_type": "stream",
     "text": [
      "the total amount of paragraphs with the word learning in them is 5 they are in paragraphs [5, 12, 15, 17, 20]\n"
     ]
    }
   ],
   "source": [
    "from bs4 import BeautifulSoup\n",
    "import requests\n",
    "\n",
    "#get the html of the data science wikipedia\n",
    "content = requests.get(\"https://en.wikipedia.org/wiki/Data_science\").text\n",
    "soup = BeautifulSoup(content, 'html.parser')\n",
    "\n",
    "#put all paragraphs on the page into variable\n",
    "paragraphs = soup.find_all('p')\n",
    "\n",
    "#declare variables list is for wich paragraph have learning in them\n",
    "list = []\n",
    "learningCounter = 0\n",
    "\n",
    "#for loop to see if the word learning in a paragraph\n",
    "for i in range(0,len(paragraphs)):\n",
    "    paragraph = str(paragraphs[i]).lower()  #converts the paragraph to a string and lower cases all the letters\n",
    "    if \"learning\" in paragraph: #checks if learning is in the paragraph\n",
    "        learningCounter += 1\n",
    "        list.append(i)  #adds the paragraph to a list (i used this to confirm its doing it right)\n",
    "    \n",
    "print(\"the total amount of paragraphs with the word learning in them is\", learningCounter,\"they are in paragraphs\", list)"
   ]
  },
  {
   "cell_type": "code",
   "execution_count": null,
   "id": "9c462f50",
   "metadata": {},
   "outputs": [],
   "source": []
  }
 ],
 "metadata": {
  "kernelspec": {
   "display_name": "Python 3 (ipykernel)",
   "language": "python",
   "name": "python3"
  },
  "language_info": {
   "codemirror_mode": {
    "name": "ipython",
    "version": 3
   },
   "file_extension": ".py",
   "mimetype": "text/x-python",
   "name": "python",
   "nbconvert_exporter": "python",
   "pygments_lexer": "ipython3",
   "version": "3.11.4"
  }
 },
 "nbformat": 4,
 "nbformat_minor": 5
}
