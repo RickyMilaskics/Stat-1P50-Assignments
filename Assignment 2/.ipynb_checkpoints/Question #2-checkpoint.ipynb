{
 "cells": [
  {
   "cell_type": "code",
   "execution_count": 52,
   "id": "7f375d4e",
   "metadata": {},
   "outputs": [
    {
     "name": "stdout",
     "output_type": "stream",
     "text": [
      "success on line 7\n",
      "success on line 8\n",
      "success on line 14\n",
      "success on line 15\n",
      "success on line 19\n",
      "success on line 20\n",
      "success on line 25\n",
      "success on line 29\n",
      "success on line 31\n",
      "success on line 32\n",
      "success on line 33\n",
      "success on line 38\n",
      "success on line 41\n",
      "success on line 43\n",
      "success on line 44\n",
      "success on line 45\n",
      "success on line 54\n",
      "success on line 55\n",
      "success on line 62\n",
      "success on line 66\n",
      "success on line 69\n",
      "success on line 77\n",
      "success on line 78\n",
      "success on line 79\n",
      "success on line 83\n",
      "success on line 84\n",
      "success on line 87\n",
      "success on line 88\n",
      "success on line 92\n",
      "success on line 97\n"
     ]
    }
   ],
   "source": [
    "from random import sample\n",
    "\n",
    "#function that checks if two numbers are the same and prints success if it is and says the line\n",
    "def sameNumberChecker(x,y, line):\n",
    "    if x == y and i != 0: #if theyre requal print success unless its line 0 because line 0 is always empty\n",
    "        print(\"success on line\", line)\n",
    "        \n",
    "\n",
    "#function to wipe a text file\n",
    "def wipetextfile(file):\n",
    "    file.write('')\n",
    "\n",
    "#wipe the file so its a new set of numbers each run\n",
    "file_a = open(file='file1.txt', mode='w')\n",
    "wipetextfile(file_a)\n",
    "file_b = open(file='file2.txt', mode='w')\n",
    "wipetextfile(file_b)\n",
    "file_a.close()\n",
    "file_b.close()\n",
    "\n",
    "#randomly puts a number 1-3 on each line 99 times on two files\n",
    "for i in range(0,100):\n",
    "\n",
    "    a = sample(['1','2','3'],1)\n",
    "    b = sample(['1','2','3'],1)\n",
    "\n",
    "    file_a = open(file='file1.txt', mode='a')\n",
    "    file_b = open(file='file2.txt', mode='a')\n",
    "\n",
    "    file_a.write('\\n'+a[0])\n",
    "    file_b.write('\\n'+b[0])\n",
    "    file_a.close()\n",
    "    file_b.close()\n",
    "\n",
    "\n",
    "#open the files to read them\n",
    "file_a = open(file='file1.txt', mode='r')\n",
    "file_b = open(file='file2.txt', mode='r')\n",
    "#compare each line to eachother\n",
    "for i in range(0,100):\n",
    "    file1 = file_a.readline()\n",
    "    file2 = file_b.readline()\n",
    "    sameNumberChecker(file1,file2,i)\n",
    "file_a.close()\n",
    "file_b.close()"
   ]
  },
  {
   "cell_type": "code",
   "execution_count": null,
   "id": "74259f80",
   "metadata": {},
   "outputs": [],
   "source": []
  }
 ],
 "metadata": {
  "kernelspec": {
   "display_name": "Python 3 (ipykernel)",
   "language": "python",
   "name": "python3"
  },
  "language_info": {
   "codemirror_mode": {
    "name": "ipython",
    "version": 3
   },
   "file_extension": ".py",
   "mimetype": "text/x-python",
   "name": "python",
   "nbconvert_exporter": "python",
   "pygments_lexer": "ipython3",
   "version": "3.11.4"
  }
 },
 "nbformat": 4,
 "nbformat_minor": 5
}
