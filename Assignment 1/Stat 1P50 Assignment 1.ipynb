{
 "cells": [
  {
   "cell_type": "code",
   "execution_count": 26,
   "id": "9df2075e",
   "metadata": {},
   "outputs": [
    {
     "name": "stdout",
     "output_type": "stream",
     "text": [
      "479001600      100000000\n",
      "True\n",
      "I had to multiply 1,  12 times to become greater than 100000000\n"
     ]
    }
   ],
   "source": [
    "numberGreaterThanTarget = 1 #The number i will be multiplying\n",
    "target = 10**8 #The target my number will have to become higher than or equal to\n",
    "i = 1 #The number that will be used to multiply with\n",
    "\n",
    "while numberGreaterThanTarget < target: #loop to make my number higher than the target\n",
    "    numberGreaterThanTarget *= i #mutiplies my number\n",
    "    i += 1 #adds one so the next time it multiplies its one higher\n",
    "\n",
    "#Print statments telling me info\n",
    "print(numberGreaterThanTarget, '    ', target) #shows me the number i have and the number i need to be higher than\n",
    "print(numberGreaterThanTarget>=target) #tells me if the number is higher than my target or equal to\n",
    "print(\"I had to multiply 1, \", i-1, \"times to become greater than\", target) #tell me how mant times i had to multiply to become higher or equal to my target"
   ]
  },
  {
   "cell_type": "code",
   "execution_count": 43,
   "id": "75751aa3",
   "metadata": {},
   "outputs": [
    {
     "name": "stdout",
     "output_type": "stream",
     "text": [
      "{'ricky': 5, '1': 1, 'pizza': 5, 'hi': 2, 'this is a really long string not sure if this is necesary idk how to spell that': 79}\n"
     ]
    }
   ],
   "source": [
    "def stringLengths(list): #function that convers a list of strings into a dict that shows the length of the strings\n",
    "    dict = {} #delcare the dict variable\n",
    "    for i in range(0,len(list)):  #loop that adds the strings and their lengths into the dict\n",
    "        dict[list[i]] = len(list[i]) #Makes key of the list the string and makse the value the length of the string\n",
    "    return dict #return the dict\n",
    "#test function\n",
    "list = ['ricky', '1', 'pizza', 'hi', 'this is a really long string not sure if this is necesary idk how to spell that'] #list of random strings\n",
    "dictOfStringLengths = stringLengths(list) #calls for function and puts it into a variable\n",
    "\n",
    "#print the dict \n",
    "print(dictOfStringLengths)\n",
    "\n",
    "#my validator\n",
    "for i in dictOfStringLengths: #runs the length of the dict and makes i the key\n",
    "    if dictOfStringLengths[i] != len(i): #checks if the value is the number of length \n",
    "        print(\"You messed up \", dictOfStringLengths[i], i) #tells me if its wrong"
   ]
  },
  {
   "cell_type": "code",
   "execution_count": 58,
   "id": "125f56f7",
   "metadata": {},
   "outputs": [
    {
     "name": "stdout",
     "output_type": "stream",
     "text": [
      "[15625, 78125, 16, 729, 43046721, 1, 729, 7, 625, 128, 9, 729, 32]\n"
     ]
    }
   ],
   "source": [
    "def power(x=1,y=1): #function that finds x**y (x^y)\n",
    "    return x**y  #return the answer\n",
    "\n",
    "list = [[5,6], [5,7], [4,2], [3,6], [9,8], [1,3], [9,3], [7,1], [5,4], [2,7],\n",
    "[9,1], [9,3], [2,5]] #list of lists of numbers\n",
    "\n",
    "listOfResults = [] #declare variable to keep a list of the results\n",
    "for i in list: #a loop that finds the power of the two numbers in the lists\n",
    "    result = power(i[0], i[1])\n",
    "    listOfResults.append(result)\n",
    "\n",
    "print(listOfResults) #print the results"
   ]
  },
  {
   "cell_type": "code",
   "execution_count": 15,
   "id": "911a731e",
   "metadata": {},
   "outputs": [
    {
     "name": "stdout",
     "output_type": "stream",
     "text": [
      "the index that is greater than or equal to x is  8 \n",
      "x is  0.4020917684815529  the list is below \n",
      " [0.0284475005101259, 0.03243057912699743, 0.06223161631392515, 0.09592248064545295, 0.16427172540659152, 0.2932362855197467, 0.33784803874126756, 0.38354785796913593, 0.4515813491059919, 0.475982877441521, 0.47709763017518136, 0.5668960193585522, 0.5827579484938934, 0.7088238331156239, 0.882283615052569, 0.889620775626378, 0.89806589763922, 0.9169090738121911, 0.9384475277513209, 0.9884675955339369]\n"
     ]
    }
   ],
   "source": [
    "from random import random\n",
    "\n",
    "list = [random() for i in range(20)]\n",
    "x = random()\n",
    "\n",
    "list.sort() #sorts the list making it least to greatest\n",
    "\n",
    "indexOfFirstElementGreaterThanX = False #make this in case not a single number in the lsit is bigger than x\n",
    "i=0 #start the i in the loop at 0\n",
    "while i < len(list): #loop that compares numbers in the list to x until it finds a bigger number\n",
    "    if x <= list[i]: #compares x to a number in the list to see if its bigger or not\n",
    "        indexOfFirstElementGreaterThanX = i #saves the index\n",
    "        i = len(list) #makes i the length of list so the loop stops\n",
    "    i += 1 #adds 1 to i so the loop eventually stops and so we an compare the next element in the list\n",
    "\n",
    "if indexOfFirstElementGreaterThanX == False: #checks if we there was a number bigger in the list\n",
    "    print(\"not a single number in the list is bigger than x \", \"\\n x is \",x,\" and the list is \", list)\n",
    "else: #if there was a number bigger in the list it prints the index out\n",
    "    print(\"the index that is greater than or equal to x is \", indexOfFirstElementGreaterThanX, \"\\nx is \", x, \" the list is below \\n\", list)\n"
   ]
  },
  {
   "cell_type": "code",
   "execution_count": 9,
   "id": "2157355c",
   "metadata": {},
   "outputs": [
    {
     "name": "stdout",
     "output_type": "stream",
     "text": [
      "Type The radius of circle 1: 10\n",
      "Type The radius of circle 2: 5\n",
      "the smaller circle fits  25.0 % of the bigger circle\n"
     ]
    }
   ],
   "source": [
    "import math #import math so i can get pi\n",
    "\n",
    "radiusCircle1 = int(input('Type The radius of circle 1: ')) #get the radius of the first circle\n",
    "radiusCircle2 = int(input('Type The radius of circle 2: ')) #get the radius of the second circle\n",
    "\n",
    "areaOfCircle1 = (radiusCircle1**2)*math.pi #find the area of the first circle\n",
    "areaOfCircle2 = (radiusCircle2**2)*math.pi #find the area of the second circle\n",
    "\n",
    "if areaOfCircle1 >= areaOfCircle2: #finds if circle 1 is bigger than circle 2\n",
    "    biggerCircle = areaOfCircle1 #places the bigger circle in this variable\n",
    "    smallerCircle = areaOfCircle2 #places the smaller circle in this variable\n",
    "else: #if they are both equal or circle 2 is bigger\n",
    "    biggerCircle = areaOfCircle2 #places the bigger or equal circle in this variable \n",
    "    smallerCircle = areaOfCircle1 #places the smaller or equal circle in this variable\n",
    "\n",
    "percentOfArea = (smallerCircle/biggerCircle)*100 #finds the percent that the smaller circle can cover the bigger circle\n",
    "\n",
    "if percentOfArea == 100: #finds if the circles are equal in size\n",
    "    print(\"the circles are the same size so they each fit 100% of eachother\")\n",
    "else: #if not print results\n",
    "    print(\"the smaller circle fits \", percentOfArea, \"% of the bigger circle\")"
   ]
  },
  {
   "cell_type": "code",
   "execution_count": 1,
   "id": "979f53a2",
   "metadata": {},
   "outputs": [
    {
     "name": "stdout",
     "output_type": "stream",
     "text": [
      "{1: [1], 2: [1, 2], 3: [1, 2, 3], 5: [1, 2, 3, 5], 6: [1, 2, 3, 5, 6], 7: [1, 2, 3, 5, 6, 7]}\n"
     ]
    }
   ],
   "source": [
    "#function that makes a dict where the elements of the list are keys and the value are the smaller or equal other elements in the list\n",
    "def numbersSmallerThanKey(list): \n",
    "    dict = {} #declare the variable as a dict\n",
    "    for i in list: #loop to make the dict\n",
    "        o = 0 #makes the loop start from 0 for index and loop duration\n",
    "        smallerThanKey = [] #makes the list empty for the loop\n",
    "        while o < len(list): #loop that finds the values that are smaller than or equal to the key\n",
    "            if list[o] <= i: #checks if the number is smaller than or equal to the key\n",
    "                smallerThanKey.append(list[o]) #adds to the list of values that are smaller or equal to the number\n",
    "            o += 1 #adds 1 for the index and loop\n",
    "        dict[i] = smallerThanKey #adds the key and list of values\n",
    "    return dict #return the dict\n",
    "\n",
    "\n",
    "list = [1,2,3,5,6,7] # random list of numbers\n",
    "dict = numbersSmallerThanKey(list) #call the function and put into variable\n",
    "print(dict) #print the dict"
   ]
  },
  {
   "cell_type": "code",
   "execution_count": 74,
   "id": "97a9040b",
   "metadata": {},
   "outputs": [
    {
     "name": "stdout",
     "output_type": "stream",
     "text": [
      "How many seconds have passed today so far: 1\n",
      "the time is  12 : 0 : 1 AM\n"
     ]
    }
   ],
   "source": [
    "secondsSoFar = int(input('How many seconds have passed today so far: ')) #get how many seconds have passed so far\n",
    "if secondsSoFar >= 86400: #checks to see if over 24 hours have passed \n",
    "    over24Hours = True\n",
    "else:\n",
    "    over24Hours = False\n",
    "\n",
    "\n",
    "minutes = 0 #start minutes at 0\n",
    "while secondsSoFar >= 60: #adds 1 to minutes for each 60 seconds there are and minuses 60 from seconds each time\n",
    "    secondsSoFar -= 60\n",
    "    minutes += 1\n",
    "seconds = secondsSoFar\n",
    "hours = 0 #start hours at 0\n",
    "while minutes >= 60: \n",
    "    minutes -= 60\n",
    "    hours += 1\n",
    "if hours == 0: #turns the hours to 12 if less then 1 hour passed for 12 hour clock\n",
    "    twelveHourClock = 12\n",
    "    amOrpm = \"AM\"\n",
    "elif hours >= 12: #if hours is more then or equal to 12 it makes it PM and\n",
    "    amOrpm = \"PM\"\n",
    "    if hours != 12: #if hours is more than 12 it minuses 12 so that way its a 12 hour clock\n",
    "        twelveHourClock = hours - 12\n",
    "else: #if its less than 12 and more then 0 just make variable AM \n",
    "    amOrpm = \"AM\" \n",
    "    twelveHourClock = hours\n",
    "\n",
    "if over24Hours: #checks if over 24 hour passed if tell user that\n",
    "    print(\"Thats more than 24H so unable to calculate the time\")\n",
    "else: #if less than 24 hours passed then tell them the time\n",
    "    print(\"the time is \", twelveHourClock,\":\",minutes,\":\", seconds ,amOrpm)"
   ]
  },
  {
   "cell_type": "code",
   "execution_count": 3,
   "id": "a7fe5b97",
   "metadata": {},
   "outputs": [
    {
     "name": "stdout",
     "output_type": "stream",
     "text": [
      "Requirement already satisfied: pandas in c:\\users\\super\\anaconda3\\lib\\site-packages (1.5.3)\n",
      "Requirement already satisfied: python-dateutil>=2.8.1 in c:\\users\\super\\anaconda3\\lib\\site-packages (from pandas) (2.8.2)\n",
      "Requirement already satisfied: pytz>=2020.1 in c:\\users\\super\\anaconda3\\lib\\site-packages (from pandas) (2022.7)\n",
      "Requirement already satisfied: numpy>=1.21.0 in c:\\users\\super\\anaconda3\\lib\\site-packages (from pandas) (1.24.3)\n",
      "Requirement already satisfied: six>=1.5 in c:\\users\\super\\anaconda3\\lib\\site-packages (from python-dateutil>=2.8.1->pandas) (1.16.0)\n"
     ]
    }
   ],
   "source": [
    "!pip install pandas"
   ]
  },
  {
   "cell_type": "code",
   "execution_count": 11,
   "id": "21a66dfe",
   "metadata": {},
   "outputs": [
    {
     "name": "stdout",
     "output_type": "stream",
     "text": [
      "   A    B    C\n",
      "0  1  3.1  800\n",
      "1  2  4.2  150\n",
      "2  2  1.5  400\n",
      "3  1  6.3  210\n"
     ]
    }
   ],
   "source": [
    "import pandas as pd\n",
    "#make dict for the dataframe\n",
    "dict = {\"A\":[1,2,2,1],\"B\":[3.1,4.2,1.5,6.3],\"C\":[800,150,400,210]}\n",
    "#make the dataframe and put into a variable\n",
    "data = pd.DataFrame(dict)\n",
    "#show dataframe\n",
    "print(data)"
   ]
  },
  {
   "cell_type": "code",
   "execution_count": null,
   "id": "46d2b917",
   "metadata": {},
   "outputs": [],
   "source": []
  }
 ],
 "metadata": {
  "kernelspec": {
   "display_name": "Python 3 (ipykernel)",
   "language": "python",
   "name": "python3"
  },
  "language_info": {
   "codemirror_mode": {
    "name": "ipython",
    "version": 3
   },
   "file_extension": ".py",
   "mimetype": "text/x-python",
   "name": "python",
   "nbconvert_exporter": "python",
   "pygments_lexer": "ipython3",
   "version": "3.11.4"
  }
 },
 "nbformat": 4,
 "nbformat_minor": 5
}
