{
 "cells": [
  {
   "cell_type": "code",
   "execution_count": 1,
   "id": "50479ec2",
   "metadata": {},
   "outputs": [
    {
     "name": "stdout",
     "output_type": "stream",
     "text": [
      "               0         1\n",
      "0  PctUnemployed  0.848545\n",
      "1    PctBSorMore  0.095760\n",
      "The percent of people who are unemployed have a much larger factor to the violent crimes.\n"
     ]
    }
   ],
   "source": [
    "import pandas as pd\n",
    "import numpy as np\n",
    "from sklearn.linear_model import LinearRegression\n",
    "\n",
    "#declare model and get data\n",
    "model = LinearRegression()\n",
    "data = pd.read_csv('Data/crime.csv')\n",
    "\n",
    "#receive the columns we need from data\n",
    "x = data.loc[:, ['PctUnemployed', 'PctBSorMore']]\n",
    "\n",
    "target = data['ViolentCrimesPerPop']\n",
    "\n",
    "#train  model\n",
    "trained_model = model.fit(x,target)\n",
    "\n",
    "#print results\n",
    "print(pd.DataFrame(zip(x.columns, model.coef_)))\n",
    "print(\"The percent of people who are unemployed have a much larger factor to the violent crimes.\")"
   ]
  },
  {
   "cell_type": "code",
   "execution_count": null,
   "id": "65f6b4a9",
   "metadata": {},
   "outputs": [],
   "source": []
  }
 ],
 "metadata": {
  "kernelspec": {
   "display_name": "Python 3 (ipykernel)",
   "language": "python",
   "name": "python3"
  },
  "language_info": {
   "codemirror_mode": {
    "name": "ipython",
    "version": 3
   },
   "file_extension": ".py",
   "mimetype": "text/x-python",
   "name": "python",
   "nbconvert_exporter": "python",
   "pygments_lexer": "ipython3",
   "version": "3.11.4"
  }
 },
 "nbformat": 4,
 "nbformat_minor": 5
}
