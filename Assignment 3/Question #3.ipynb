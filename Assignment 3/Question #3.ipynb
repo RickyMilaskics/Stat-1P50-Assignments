{
 "cells": [
  {
   "cell_type": "code",
   "execution_count": 1,
   "id": "b74bf61e",
   "metadata": {},
   "outputs": [],
   "source": [
    "from sklearn.linear_model import LogisticRegression\n",
    "import pandas as pd\n",
    "import numpy as np\n",
    "\n",
    "#declare model and get data\n",
    "model = LogisticRegression(max_iter=1000)\n",
    "data = pd.read_csv('Data/kidney_disease.csv')\n",
    "\n",
    "#receive the columns we need from data\n",
    "x = data.loc[:, ['age', 'bp', 'sod', 'pot', 'hemo', 'pcv', 'wc', 'rc']]\n",
    "target = data['ckd']\n",
    "\n",
    "#train model\n",
    "trained_model = model.fit(x,target)"
   ]
  },
  {
   "cell_type": "code",
   "execution_count": null,
   "id": "e26d9121",
   "metadata": {},
   "outputs": [],
   "source": []
  }
 ],
 "metadata": {
  "kernelspec": {
   "display_name": "Python 3 (ipykernel)",
   "language": "python",
   "name": "python3"
  },
  "language_info": {
   "codemirror_mode": {
    "name": "ipython",
    "version": 3
   },
   "file_extension": ".py",
   "mimetype": "text/x-python",
   "name": "python",
   "nbconvert_exporter": "python",
   "pygments_lexer": "ipython3",
   "version": "3.11.4"
  }
 },
 "nbformat": 4,
 "nbformat_minor": 5
}
