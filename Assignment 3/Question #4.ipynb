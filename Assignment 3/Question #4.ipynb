{
 "cells": [
  {
   "cell_type": "code",
   "execution_count": 1,
   "id": "2f2a5b09",
   "metadata": {},
   "outputs": [
    {
     "name": "stdout",
     "output_type": "stream",
     "text": [
      "accuracy is  0.9558823529411765\n",
      "f1 score is  0.9454545454545454\n"
     ]
    }
   ],
   "source": [
    "from sklearn.linear_model import LogisticRegression\n",
    "import pandas as pd\n",
    "import numpy as np\n",
    "from sklearn.model_selection import train_test_split\n",
    "from sklearn.metrics import accuracy_score\n",
    "from sklearn.metrics import f1_score\n",
    "\n",
    "\n",
    "#declare model and get data\n",
    "model = LogisticRegression(max_iter=1000)\n",
    "data = pd.read_csv('Data/kidney_disease.csv')\n",
    "\n",
    "\n",
    "#receive the columns we need from data\n",
    "x = data.loc[:, ['age', 'bp', 'sod', 'pot', 'hemo', 'pcv', 'wc', 'rc']]\n",
    "target = data['ckd']\n",
    "\n",
    "#split the data into train and test\n",
    "X_train, X_test, y_train, y_test = train_test_split(x, target, test_size=0.30)\n",
    "\n",
    "#train the model\n",
    "trained_model = model.fit(X_train,y_train)\n",
    "\n",
    "#predict test data and print results\n",
    "y_predicted = model.predict(X_test)\n",
    "accuracy = accuracy_score(y_test, y_predicted)\n",
    "print(\"accuracy is \", accuracy)\n",
    "f1= f1_score(y_test, y_predicted)\n",
    "print(\"f1 score is \", f1)"
   ]
  },
  {
   "cell_type": "code",
   "execution_count": null,
   "id": "d33403b0",
   "metadata": {},
   "outputs": [],
   "source": []
  }
 ],
 "metadata": {
  "kernelspec": {
   "display_name": "Python 3 (ipykernel)",
   "language": "python",
   "name": "python3"
  },
  "language_info": {
   "codemirror_mode": {
    "name": "ipython",
    "version": 3
   },
   "file_extension": ".py",
   "mimetype": "text/x-python",
   "name": "python",
   "nbconvert_exporter": "python",
   "pygments_lexer": "ipython3",
   "version": "3.11.4"
  }
 },
 "nbformat": 4,
 "nbformat_minor": 5
}
