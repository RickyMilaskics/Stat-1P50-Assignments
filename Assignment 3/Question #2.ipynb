{
 "cells": [
  {
   "cell_type": "code",
   "execution_count": 1,
   "id": "be6b12eb",
   "metadata": {},
   "outputs": [
    {
     "name": "stdout",
     "output_type": "stream",
     "text": [
      "                0         1\n",
      "0   PctUnemployed  0.210413\n",
      "1     PctBSorMore -0.063076\n",
      "2  PctPopUnderPov  0.569061\n",
      "3     PolicPerPop  0.195273\n",
      "4     Pcthomeless  0.212957\n",
      "the most influential factor is the population under poverty\n"
     ]
    }
   ],
   "source": [
    "import pandas as pd\n",
    "import numpy as np\n",
    "from sklearn.linear_model import LinearRegression\n",
    "\n",
    "\n",
    "#declare model and get data\n",
    "model = LinearRegression()\n",
    "data = pd.read_csv('Data/crime.csv')\n",
    "\n",
    "#receive the columns we need from data\n",
    "x = data.loc[:, ['PctUnemployed', 'PctBSorMore', 'PctPopUnderPov', 'PolicPerPop', 'Pcthomeless']]\n",
    "\n",
    "target = data['ViolentCrimesPerPop']\n",
    "\n",
    "#train  model\n",
    "trained_model = model.fit(x,target)\n",
    "\n",
    "#print results\n",
    "print(pd.DataFrame(zip(x.columns, model.coef_)))\n",
    "print(\"the most influential factor is the population under poverty\")"
   ]
  },
  {
   "cell_type": "code",
   "execution_count": null,
   "id": "73fd4872",
   "metadata": {},
   "outputs": [],
   "source": []
  }
 ],
 "metadata": {
  "kernelspec": {
   "display_name": "Python 3 (ipykernel)",
   "language": "python",
   "name": "python3"
  },
  "language_info": {
   "codemirror_mode": {
    "name": "ipython",
    "version": 3
   },
   "file_extension": ".py",
   "mimetype": "text/x-python",
   "name": "python",
   "nbconvert_exporter": "python",
   "pygments_lexer": "ipython3",
   "version": "3.11.4"
  }
 },
 "nbformat": 4,
 "nbformat_minor": 5
}
