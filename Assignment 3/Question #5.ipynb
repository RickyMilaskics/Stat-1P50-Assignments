{
 "cells": [
  {
   "cell_type": "code",
   "execution_count": 1,
   "id": "a83cab04",
   "metadata": {},
   "outputs": [
    {
     "name": "stdout",
     "output_type": "stream",
     "text": [
      "0.5\n"
     ]
    }
   ],
   "source": [
    "def get_frequency(input_string):\n",
    "    list_of_words = input_string.split(' ')\n",
    "    dict_of_frequencies = {}\n",
    "    largestAmount = 0\n",
    "    largestWord = list_of_words[0]\n",
    "    for word in list_of_words:\n",
    "        if word in dict_of_frequencies.keys():\n",
    "            dict_of_frequencies[word] = dict_of_frequencies[word] + 1\n",
    "            if dict_of_frequencies[word] > largestAmount:\n",
    "                largestAmount = dict_of_frequencies[word]\n",
    "                largestWord = word\n",
    "        else:\n",
    "            dict_of_frequencies[word] = 1\n",
    "    return(dict_of_frequencies[largestWord]/len(list_of_words))\n",
    "    \n",
    "data = \"thing thing thing that that that that this\"\n",
    "test = get_frequency(data)\n",
    "print(test)"
   ]
  },
  {
   "cell_type": "code",
   "execution_count": null,
   "id": "657b8f7f",
   "metadata": {},
   "outputs": [],
   "source": []
  }
 ],
 "metadata": {
  "kernelspec": {
   "display_name": "Python 3 (ipykernel)",
   "language": "python",
   "name": "python3"
  },
  "language_info": {
   "codemirror_mode": {
    "name": "ipython",
    "version": 3
   },
   "file_extension": ".py",
   "mimetype": "text/x-python",
   "name": "python",
   "nbconvert_exporter": "python",
   "pygments_lexer": "ipython3",
   "version": "3.11.4"
  }
 },
 "nbformat": 4,
 "nbformat_minor": 5
}
